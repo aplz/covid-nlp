{
 "cells": [
  {
   "cell_type": "code",
   "execution_count": 1,
   "metadata": {},
   "outputs": [],
   "source": [
    "import json\n",
    "from pathlib import Path\n",
    "from typing import List\n",
    "\n",
    "from dacite import from_dict\n",
    "from covid import DATA_DIR, logger\n",
    "from covid.structs import Paper\n",
    "from covid.io import read_data"
   ]
  },
  {
   "cell_type": "markdown",
   "metadata": {},
   "source": [
    "## Toolbox\n",
    "\n",
    "Since the paper's main content is stored in text (abstract and body), we'll use some text processing tools. Among those are spacy and scispacy. spacy is a really easy to use python library for many NLP tasks that probably does not need introduction any more. Anyways, here's the link to [the docs](https://spacy.io/usage).\n",
    "\n",
    "### scispaCy \n",
    "\n",
    "\n",
    "[scispaCy](https://allenai.github.io/scispacy/) is a Python package containing spaCy models for processing biomedical, scientific or clinical text.\n",
    "There are already trained models available for different biomedical entity types:\n",
    "\n",
    "model|F1|Entity Types\n",
    "--- | --- | ---\n",
    "en_ner_craft_md|76.60|cell types, chemicals, proteins, genes\n",
    "en_ner_jnlpba_md|74.26|cell lines, cell types, DNAs, RNAs, proteins\n",
    "en_ner_bc5cdr_md|85.02|chemicals and diseases\n",
    "en_ner_bionlp13cg_md|78.28|cancer genetics\n",
    "\n",
    "For more details on the corpora, pls refer to the original paper and the references therein: [ScispaCy: Fast and Robust Models for Biomedical Natural Language Processing](https://www.aclweb.org/anthology/W19-5034/)\n",
    "\n",
    "#### Why?\n",
    "Standar NER tools cover only the standard entity types (Person, Location, Organization etc). Such entities are usually super rare in biomedical or healthcare data and the predominant entity types are disease, protein, body part, medical device etc."
   ]
  },
  {
   "cell_type": "markdown",
   "metadata": {},
   "source": [
    "### scispacy - UMLS linker\n",
    "As per the scispacy [docs](https://github.com/allenai/scispacy#umlsentitylinker-alpha-feature)\n",
    "> The UmlsEntityLinker is a SpaCy component which performs linking to the Unified Medical Language System. Note that this is currently an alpha feature. The linker simply performs a string overlap search on named entities, comparing them with a knowledge base of 2.7 million concepts using an approximate nearest neighbours search.\n",
    "\n",
    "That is, sciscpacy comes with a feature that let's us ground entity mentions to the concept they (most likely) refer to. For instance, *'rRNA'* and *'ribosomal RNA'* both refer to the UMLS concept 'C0035701', i.e. *Ribosomal ribonucleic acid*. As mentioned in the quote above, name ambiguity is not fully handled but let's hope that biomedical entities are less ambigue compared to person names (e.g. *John Smith*). \n",
    "\n",
    "What is this UMLS thing and why do we want to use it?\n",
    "\n",
    "#### UMLS\n",
    "As per the UMLS [docs](https://www.nlm.nih.gov/research/umls/index.html)\n",
    "> The UMLS, or Unified Medical Language System, is a set of files and software that brings together many health and biomedical vocabularies and standards to enable interoperability between computer systems.\n",
    "\n",
    "It does so by providing a hierarchy of uniquely identified concepts that doctors, software or also papers may refer to ensuring that the topic they *talk* about is the same - just like Wikipedia URIs (if interested, google 'Wikfication' or 'Named Entity Linking' ;-) ) \n",
    "\n",
    "#### Why?\n",
    "When we want to investigate the topics of a text, grounded entities reduce the number of items we need to tackle. "
   ]
  },
  {
   "cell_type": "markdown",
   "metadata": {},
   "source": [
    "### Text Rank\n",
    "\n",
    "TextRank applies a graph algorithm to find the most important keywords and sentences in a text ([Mihalcea & Tarau](https://web.eecs.umich.edu/~mihalcea/papers/mihalcea.emnlp04.pdf)). The [PyTextRank implementation](https://pypi.org/project/pytextrank/) can be plugged into the [spaCy pipeline](https://spacy.io/universe/project/spacy-pytextrank) which is super convenient. We may use it to see if we can rank the important concepts in the paper by something more elaborate than pure frequency."
   ]
  },
  {
   "cell_type": "code",
   "execution_count": null,
   "metadata": {},
   "outputs": [],
   "source": [
    "import spacy\n",
    "from scispacy.abbreviation import AbbreviationDetector\n",
    "from scispacy.umls_linking import UmlsEntityLinker\n",
    "import pytextrank"
   ]
  },
  {
   "cell_type": "markdown",
   "metadata": {},
   "source": [
    "#### load models\n",
    "Let's stick with *en_ner_bc5cdr_md* for now."
   ]
  },
  {
   "cell_type": "code",
   "execution_count": 4,
   "metadata": {},
   "outputs": [],
   "source": [
    "\n",
    "models = {\n",
    "    #\"base\": spacy.load(\"en_core_sci_sm\"),\n",
    "    #\"craft\": spacy.load(\"en_ner_craft_md\"),\n",
    "    \"bc5\": spacy.load(\"en_ner_bc5cdr_md\"),  \n",
    "    #\"jnlpba\" : spacy.load(\"en_ner_jnlpba_md\"), \n",
    "} \n",
    "textRank = pytextrank.TextRank()"
   ]
  },
  {
   "cell_type": "code",
   "execution_count": null,
   "metadata": {},
   "outputs": [],
   "source": [
    "linker = UmlsEntityLinker(resolve_abbreviations=True)"
   ]
  },
  {
   "cell_type": "code",
   "execution_count": 6,
   "metadata": {},
   "outputs": [],
   "source": [
    "import csv\n",
    "umls_types = {}\n",
    "# manually downloaded from this gist: https://gist.github.com/joelkuiper/4869d148333f279c2b2e\n",
    "with open(Path() / DATA_DIR / \"umls_types.txt\") as f:\n",
    "    types_reader = csv.reader(f, delimiter=',')\n",
    "    for row in types_reader:\n",
    "        umls_types[row[0]] = row[1]"
   ]
  },
  {
   "cell_type": "code",
   "execution_count": 7,
   "metadata": {},
   "outputs": [],
   "source": [
    "nlp = models[\"bc5\"]\n",
    "abbreviation_pipe = AbbreviationDetector(nlp)\n",
    "if not nlp.has_pipe(\"abbrev\"):\n",
    "    nlp.add_pipe(abbreviation_pipe, name=\"abbrev\")\n",
    "if not nlp.has_pipe(\"textRank\"):\n",
    "    nlp.add_pipe(textRank.PipelineComponent, name=\"textRank\", last=True)\n",
    "if not nlp.has_pipe(\"linker\"):\n",
    "    nlp.add_pipe(linker, name=\"linker\") "
   ]
  },
  {
   "cell_type": "code",
   "execution_count": 8,
   "metadata": {},
   "outputs": [
    {
     "name": "stdout",
     "output_type": "stream",
     "text": [
      "2020-03-23 19:37:19 INFO: [covid - read_data()] Read 1 files from /home/anja/sandbox/covid-nlp/data/CORD/2020-03-13.\n"
     ]
    }
   ],
   "source": [
    "biorxiv_dir: Path = DATA_DIR / \"CORD/2020-03-13/\"\n",
    "corpus = read_data(biorxiv_dir, 1)\n",
    "\n",
    "processed = []\n",
    "for paper in corpus:\n",
    "    text = \"\\n\".join([f.text for f in paper.body_text])\n",
    "    abstract_text = \"\\n\".join([f.text for f in paper.abstract])\n",
    "    full_text = \"\\n\".join([abstract_text, text])\n",
    "    mentions = {}\n",
    "    doc = nlp(abstract_text)\n",
    "    processed.append((paper, doc))"
   ]
  },
  {
   "cell_type": "markdown",
   "metadata": {},
   "source": [
    "What are the entities in the document? \n",
    "What are there UMLS concepts?  \n",
    "\n",
    "For the latter, we'll trust scispacy and take the highest scoring candidate if the linking score is greater than 85%. This is a simplification but hopefully ok here. \n",
    "The UmlsEntity in scispacy is defined [here](https://github.com/allenai/scispacy/blob/master/scispacy/umls_utils.py) but let's shortly describe its attributes here:\n",
    "* `concept_id`: the unique identifier of the UMLS concept\n",
    "* `canonical_name`: probably the dominant name for the concept, similar to Wikipedia titles\n",
    "* `aliases`: alias names, including abbreviations\n",
    "* `types`: the semantic types of a term, e.g. T123 = 'Biologically Active Substance'. [Here](https://gist.github.com/joelkuiper/4869d148333f279c2b2e) is a gist listing them. \n",
    "* `definition`: the definition of the concept, a textual description"
   ]
  },
  {
   "cell_type": "code",
   "execution_count": 9,
   "metadata": {},
   "outputs": [],
   "source": [
    "from collections import defaultdict, Counter\n",
    "# Collect all UMLS entities\n",
    "umls_entities = defaultdict(Counter)\n",
    "# collect all entities\n",
    "entities = defaultdict(lambda: defaultdict(Counter))\n",
    "\n",
    "paper, doc = processed[0]\n",
    "for entity in doc.ents:    \n",
    "    entities[paper.paper_id][entity.label_].update([entity])\n",
    "    # the umls candidate entities are attached to the entity mention, we'll take only the first\n",
    "    top_candidate = next(iter([e for e in entity._.umls_ents if e[1] > 0.85]), None)\n",
    "    if top_candidate:\n",
    "        cuid = top_candidate[0]\n",
    "        umls_entities[paper.paper_id].update([cuid])"
   ]
  },
  {
   "cell_type": "code",
   "execution_count": 10,
   "metadata": {},
   "outputs": [
    {
     "name": "stdout",
     "output_type": "stream",
     "text": [
      "2 UID: C0002520, name: Amino Acids, types: ['T116', 'T121', 'T123']\n",
      "1 UID: C1414538, name: FBL gene, types: ['T028']\n",
      "1 UID: C0035701, name: Ribosomal RNA, types: ['T114', 'T123']\n",
      "1 UID: C0035709, name: Small Nuclear RNA, types: ['T114', 'T123']\n",
      "1 UID: C0042769, name: Virus Diseases, types: ['T047']\n"
     ]
    }
   ],
   "source": [
    "umls_entities[paper.paper_id]\n",
    "for cuid, freq in umls_entities[paper.paper_id].most_common():\n",
    "    entity = linker.umls.cui_to_entity[cuid]\n",
    "    print(f\"{freq} UID: {entity.concept_id}, name: {entity.canonical_name}, types: {entity.types}\")\n",
    "       "
   ]
  },
  {
   "cell_type": "code",
   "execution_count": 11,
   "metadata": {},
   "outputs": [
    {
     "data": {
      "text/plain": [
       "defaultdict(collections.Counter,\n",
       "            {'CHEMICAL': Counter({Fibrillarin: 1,\n",
       "                      rRNA: 1,\n",
       "                      snRNAs: 1,\n",
       "                      amino acids: 1,\n",
       "                      amino acids: 1}),\n",
       "             'DISEASE': Counter({virus infections: 1})})"
      ]
     },
     "execution_count": 11,
     "metadata": {},
     "output_type": "execute_result"
    }
   ],
   "source": [
    "entities[paper.paper_id]"
   ]
  },
  {
   "cell_type": "markdown",
   "metadata": {},
   "source": [
    "What are the top ranked phrases and the entities within them?"
   ]
  },
  {
   "cell_type": "code",
   "execution_count": 17,
   "metadata": {},
   "outputs": [],
   "source": [
    "def entities_in_range(doc, start:int, end:int):\n",
    "    \"\"\"Collect all entities contained in the boundary defined by start and end.\"\"\"\n",
    "    return [e for e in doc.ents if e.start >= start and e.end <= end]"
   ]
  },
  {
   "cell_type": "code",
   "execution_count": 18,
   "metadata": {},
   "outputs": [
    {
     "name": "stdout",
     "output_type": "stream",
     "text": [
      "0.0926     2  amino acids, entity/ies: [amino acids]\n",
      "0.0846     1  rrna, entity/ies: [rRNA]\n",
      "0.0818     3  fibrillarin, entity/ies: [Fibrillarin]\n",
      "0.0708     1  virus infections, entity/ies: [virus infections]\n",
      "0.0402     1  snrnas, entity/ies: [snRNAs]\n"
     ]
    }
   ],
   "source": [
    "for p in doc._.phrases[:40]:\n",
    "    phrased = entities_in_range(doc, p.chunks[0].start, p.chunks[0].end)\n",
    "    if phrased:\n",
    "        print(f\"{p.rank:.4f} {p.count:5d}  {p.text}, entity/ies: {phrased}\")"
   ]
  },
  {
   "cell_type": "markdown",
   "metadata": {},
   "source": [
    "This is a little bit more helpful than the counter list.."
   ]
  },
  {
   "cell_type": "markdown",
   "metadata": {},
   "source": [
    "## Next steps\n",
    "* Get an UMLS account so that we can use the [UMLS API](https://documentation.uts.nlm.nih.gov/rest/relations/index.html) to query additional information. This repository contains very useful [sample code](https://github.com/HHS/uts-rest-api/blob/master/samples/python/retrieve-cui-or-code.py)"
   ]
  }
 ],
 "metadata": {
  "kernelspec": {
   "display_name": "Python 3",
   "language": "python",
   "name": "python3"
  },
  "language_info": {
   "codemirror_mode": {
    "name": "ipython",
    "version": 3
   },
   "file_extension": ".py",
   "mimetype": "text/x-python",
   "name": "python",
   "nbconvert_exporter": "python",
   "pygments_lexer": "ipython3",
   "version": "3.7.5"
  }
 },
 "nbformat": 4,
 "nbformat_minor": 4
}
